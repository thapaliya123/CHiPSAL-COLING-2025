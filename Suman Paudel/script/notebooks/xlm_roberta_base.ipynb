{
 "cells": [
  {
   "cell_type": "code",
   "execution_count": 1,
   "metadata": {},
   "outputs": [],
   "source": [
    "!pip install -q transformers\n",
    "!pip install -q torch\n",
    "!pip install -q datasets\n",
    "!pip install -q accelerate"
   ]
  },
  {
   "cell_type": "code",
   "execution_count": 2,
   "metadata": {},
   "outputs": [],
   "source": [
    "import os\n",
    "import logging\n",
    "import gdown\n",
    "import numpy as np\n",
    "import pandas as pd\n",
    "import torch\n",
    "from datasets import Dataset\n",
    "from sklearn.metrics import classification_report\n",
    "from torch.utils.data import DataLoader\n",
    "from transformers import (AutoTokenizer, \n",
    "                          AutoModelForSequenceClassification, \n",
    "                          Trainer, \n",
    "                          TrainingArguments, \n",
    "                          EarlyStoppingCallback\n",
    "                          )\n",
    "from torch.nn import CrossEntropyLoss\n",
    "import wandb  # Add wandb"
   ]
  },
  {
   "cell_type": "code",
   "execution_count": 3,
   "metadata": {},
   "outputs": [],
   "source": [
    "device = torch.device(\"cuda\" if torch.cuda.is_available() else \"cpu\")"
   ]
  },
  {
   "cell_type": "code",
   "execution_count": 4,
   "metadata": {},
   "outputs": [
    {
     "name": "stderr",
     "output_type": "stream",
     "text": [
      "Downloading...\n",
      "From: https://drive.google.com/u/1/uc?id=166k7N9KV6jEDvvAr9iLTwrWyfdEcAs5p&export=download\n",
      "To: /home/suman/nlp-competition/CHIPSAL-COLING-2025/Suman Paudel/script/notebooks/train.csv\n",
      "100%|██████████| 914k/914k [00:00<00:00, 2.10MB/s]\n"
     ]
    },
    {
     "name": "stdout",
     "output_type": "stream",
     "text": [
      "File Download succesfull\n"
     ]
    },
    {
     "name": "stderr",
     "output_type": "stream",
     "text": [
      "Downloading...\n",
      "From: https://drive.google.com/u/1/uc?id=1-2TjS6xPfjWj9YaJGSf-JXXXfNz-2pNT&export=download\n",
      "To: /home/suman/nlp-competition/CHIPSAL-COLING-2025/Suman Paudel/script/notebooks/val_tweet.csv\n",
      "100%|██████████| 196k/196k [00:00<00:00, 705kB/s]\n"
     ]
    },
    {
     "name": "stdout",
     "output_type": "stream",
     "text": [
      "File Download succesfull\n"
     ]
    },
    {
     "name": "stderr",
     "output_type": "stream",
     "text": [
      "Downloading...\n",
      "From: https://drive.google.com/u/1/uc?id=1-1k1yHOGP7Wij1mUG2iKaSTN8i1WUgPz&export=download\n",
      "To: /home/suman/nlp-competition/CHIPSAL-COLING-2025/Suman Paudel/script/notebooks/val_label.csv\n",
      "100%|██████████| 3.80k/3.80k [00:00<00:00, 6.22MB/s]"
     ]
    },
    {
     "name": "stdout",
     "output_type": "stream",
     "text": [
      "File Download succesfull\n"
     ]
    },
    {
     "name": "stderr",
     "output_type": "stream",
     "text": [
      "\n"
     ]
    }
   ],
   "source": [
    "import gdown\n",
    "\n",
    "def download_drive_file_by_id(file_id, target_file_name):\n",
    "  dataset_url = f\"https://drive.google.com/u/1/uc?id={file_id}&export=download\"\n",
    "  gdown.download(dataset_url, target_file_name)\n",
    "  print(\"File Download succesfull\")\n",
    "\n",
    "FILE_ID = ['166k7N9KV6jEDvvAr9iLTwrWyfdEcAs5p', '1-2TjS6xPfjWj9YaJGSf-JXXXfNz-2pNT', '1-1k1yHOGP7Wij1mUG2iKaSTN8i1WUgPz']\n",
    "FILENAME = [\"train.csv\", \"val_tweet.csv\", \"val_label.csv\"]\n",
    "for file_id, file_name in zip(FILE_ID, FILENAME):\n",
    "  download_drive_file_by_id(file_id, file_name)"
   ]
  },
  {
   "cell_type": "code",
   "execution_count": null,
   "metadata": {},
   "outputs": [],
   "source": []
  }
 ],
 "metadata": {
  "kernelspec": {
   "display_name": "documentai",
   "language": "python",
   "name": "python3"
  },
  "language_info": {
   "codemirror_mode": {
    "name": "ipython",
    "version": 3
   },
   "file_extension": ".py",
   "mimetype": "text/x-python",
   "name": "python",
   "nbconvert_exporter": "python",
   "pygments_lexer": "ipython3",
   "version": "3.12.3"
  }
 },
 "nbformat": 4,
 "nbformat_minor": 2
}
