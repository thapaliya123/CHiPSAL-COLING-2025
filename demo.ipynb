{
 "cells": [
  {
   "cell_type": "markdown",
   "metadata": {},
   "source": [
    "## Sample the json Corpus"
   ]
  },
  {
   "cell_type": "code",
   "execution_count": 7,
   "metadata": {},
   "outputs": [
    {
     "name": "stdout",
     "output_type": "stream",
     "text": [
      "Total sampled records: 288175\n"
     ]
    }
   ],
   "source": [
    "import json\n",
    "import random\n",
    "import re\n",
    "\n",
    "# Path to your large JSON file\n",
    "file_path = 'lit-h.json'\n",
    "\n",
    "# Set the random seed for reproducibility\n",
    "random.seed(42)\n",
    "\n",
    "# Total records in the file\n",
    "total_records = 17000000\n",
    "\n",
    "# Desired sample size\n",
    "sample_size = 500000\n",
    "\n",
    "# Regular expressions for Hindi text, URLs, hashtags, mentions, and emojis\n",
    "hindi_pattern = re.compile(r'[\\u0900-\\u097F]')  # Hindi (Devanagari script) characters\n",
    "url_pattern = re.compile(r'http\\S+')\n",
    "hashtag_pattern = re.compile(r'#\\w+')\n",
    "mention_pattern = re.compile(r'@\\w+')\n",
    "emoji_pattern = re.compile(\n",
    "    \"[\\U0001F600-\\U0001F64F]\"  # Emoticons\n",
    "    \"|[\\U0001F300-\\U0001F5FF]\"  # Miscellaneous symbols and pictographs\n",
    "    \"|[\\U0001F680-\\U0001F6FF]\"  # Transport and map symbols\n",
    "    \"|[\\U0001F1E0-\\U0001F1FF]\"  # Flags (iOS)\n",
    "    , flags=re.UNICODE)\n",
    "\n",
    "# Step 1: Generate 250k unique random indices\n",
    "random_indices = sorted(random.sample(range(total_records), sample_size))\n",
    "\n",
    "# Step 2: Function to filter based on Hindi/English content\n",
    "def contains_hindi(text):\n",
    "    # Check if there is Hindi content (Devanagari script)\n",
    "    has_hindi = bool(hindi_pattern.search(text))\n",
    "    \n",
    "    # Clean the text by removing URLs, hashtags, mentions, and emojis\n",
    "    cleaned_text = re.sub(url_pattern, '', text)\n",
    "    cleaned_text = re.sub(hashtag_pattern, '', cleaned_text)\n",
    "    cleaned_text = re.sub(mention_pattern, '', cleaned_text)\n",
    "    cleaned_text = re.sub(emoji_pattern, '', cleaned_text)\n",
    "    \n",
    "    # Check if the remaining text is purely English (only ASCII characters)\n",
    "    is_only_english = all(ord(c) < 128 for c in cleaned_text.strip())\n",
    "    \n",
    "    # Accept the tweet if it has Hindi content or if cleaned text isn't just English\n",
    "    return has_hindi and not is_only_english\n",
    "\n",
    "# Step 3: Open the file and extract records at the random indices\n",
    "sampled_records = []\n",
    "current_index = 0  # Index while reading the file\n",
    "random_index_pointer = 0  # Pointer to the current random index\n",
    "\n",
    "with open(file_path, 'r') as f:\n",
    "    for line in f:\n",
    "        # If current index matches the random index, extract the record\n",
    "        if current_index == random_indices[random_index_pointer]:\n",
    "            record = json.loads(line)\n",
    "            tweet = record.get('tweet', '')\n",
    "\n",
    "            # Filter based on Hindi and non-English content\n",
    "            if contains_hindi(tweet):\n",
    "                sampled_records.append(tweet)\n",
    "            \n",
    "            # Move to the next random index\n",
    "            random_index_pointer += 1\n",
    "\n",
    "            # Break if we have enough sampled records\n",
    "            if random_index_pointer >= len(random_indices):\n",
    "                break\n",
    "\n",
    "        # Increment the current line index\n",
    "        current_index += 1\n",
    "\n",
    "print(f\"Total sampled records: {len(sampled_records)}\")\n",
    "\n",
    "# Step 4: Save the sampled records to a new file with proper encoding\n",
    "with open('tweet_hindi_228k.josn', 'w', encoding='utf-8') as outfile:\n",
    "    for record in sampled_records:\n",
    "        json.dump(record, outfile, ensure_ascii=False)\n",
    "        outfile.write('\\n')\n"
   ]
  },
  {
   "cell_type": "markdown",
   "metadata": {},
   "source": [
    "## Load the Sampled Json"
   ]
  },
  {
   "cell_type": "code",
   "execution_count": 10,
   "metadata": {},
   "outputs": [
    {
     "name": "stdout",
     "output_type": "stream",
     "text": [
      "Total loaded records: 288175\n"
     ]
    }
   ],
   "source": [
    "import json\n",
    "\n",
    "# Path to the saved sample file\n",
    "sample_file_path = 'tweet_hindi_228k.json'\n",
    "\n",
    "# List to hold the loaded records\n",
    "loaded_sampled_records = []\n",
    "\n",
    "# Read the file line by line and load each record\n",
    "with open(sample_file_path, 'r', encoding='utf-8') as infile:\n",
    "    for line in infile:\n",
    "        record = json.loads(line)\n",
    "        loaded_sampled_records.append(record)\n",
    "\n",
    "# Now `loaded_sampled_records` contains all the sampled records\n",
    "print(f\"Total loaded records: {len(loaded_sampled_records)}\")\n"
   ]
  },
  {
   "cell_type": "code",
   "execution_count": 11,
   "metadata": {},
   "outputs": [
    {
     "data": {
      "text/plain": [
       "['Aisa hai to glt baat ho rhi hai सारी ईवीएम मशीने एंड्रॉइड फोन से कनेक्ट हो रही है, इसका मतलब बीजेपी जीत चुकी है !  http://dhunt.in/57FS0?s=a&ss=twt\\xa0… via Dailyhunt',\n",
       " 'Sir,  आजकल जब भी में ये देखता हूं ना जाने किउ आप याद आते है, बाता सकते है किउ??🤔🤔 pic.twitter.com/QBRZANmr4g',\n",
       " 'जागों रे भारत जागों:  *देशवासियों भीड़ जुटाकर डराने का बहाना ढूंढ लिया मुद्दों से ध्यान हटाने का बहाना ढूंढ लिया कल तक जो तरक्की की बात करते थे चुनाव आते ही मन्दिर का बहाना ढूंढ लिया है!  *जागों मेरे देशवासियों जागों वक्त है बदलाव का 2019 मे लहर ख़त्म अबकीबार RG जी की आँधी है !',\n",
       " '@myogiadityanath स्वामी जी 68500 2019  भर्ती में कटऑफ बताइये प्लीज़ 🙏🙏🙏🙏🙏🙏🙏🙏 pic.twitter.com/tAL0AEySC1',\n",
       " 'महाराष्ट्र मे अब 68% आरक्षण होने वाला  अब परिवार नियोजन क्यों अपनाएं? अब पढ़ने लिखने की क्या आवश्यकता है?  जनसँख्या बढ़ाओ प्रदर्शन कर ताकत दिखाओ  संविधान संसोधन कर योजनाओं में आरक्षण लो  ज्ञानी नहीँ, दलित दिखो ताकतवर नही, कमजोर दिखो  बड़ा बैंक, वोट बैंक कोई टैक्स दे,मजे कोई करें',\n",
       " '#SundayMotivation गुरु के बिना मोक्ष सम्भव नहीं है। गुरु भी पूरा हो।नकली गुरुओं से भी मोक्ष सम्भव नहीं है।  अवश्य देखें :-ईश्वर t v रात 8:30 बजे से।',\n",
       " 'बेलन भी एक बड़ा ही विचित्र यंत्र है जिससे रोटी गोल होती है और पति सीधा !!',\n",
       " 'बेचारे कितना गरीब किसान है',\n",
       " 'जुग जुग जिओ हजारों साल ये दिन आये बारम्बार  शादी की सालगिरह मुबारक हो',\n",
       " 'क्योंकि आपके नेता जैसे नहीं है  चाय वाले और पढे लिखे का फर्क यही होता है']"
      ]
     },
     "execution_count": 11,
     "metadata": {},
     "output_type": "execute_result"
    }
   ],
   "source": [
    "loaded_sampled_records[:10]"
   ]
  }
 ],
 "metadata": {
  "kernelspec": {
   "display_name": "venv",
   "language": "python",
   "name": "python3"
  },
  "language_info": {
   "codemirror_mode": {
    "name": "ipython",
    "version": 3
   },
   "file_extension": ".py",
   "mimetype": "text/x-python",
   "name": "python",
   "nbconvert_exporter": "python",
   "pygments_lexer": "ipython3",
   "version": "3.12.4"
  }
 },
 "nbformat": 4,
 "nbformat_minor": 2
}
